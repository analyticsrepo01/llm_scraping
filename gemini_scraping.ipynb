{
 "cells": [
  {
   "cell_type": "code",
   "execution_count": 1,
   "id": "57f5155f-1838-4ec2-8de8-c99de6ffe960",
   "metadata": {
    "tags": []
   },
   "outputs": [
    {
     "name": "stderr",
     "output_type": "stream",
     "text": [
      "/opt/conda/envs/r/lib/python3.12/site-packages/tqdm/auto.py:21: TqdmWarning: IProgress not found. Please update jupyter and ipywidgets. See https://ipywidgets.readthedocs.io/en/stable/user_install.html\n",
      "  from .autonotebook import tqdm as notebook_tqdm\n"
     ]
    }
   ],
   "source": [
    "# Import the above libraries\n",
    "\n",
    "import streamlit as st\n",
    "import requests\n",
    "from bs4 import BeautifulSoup\n",
    "import os\n",
    "import google.generativeai as genai"
   ]
  },
  {
   "cell_type": "code",
   "execution_count": 2,
   "id": "d15432dc-371e-4336-af7b-e5e322bdc067",
   "metadata": {
    "tags": []
   },
   "outputs": [
    {
     "name": "stdout",
     "output_type": "stream",
     "text": [
      "Creating gs://my-project-0004-346516-pytorch112kagglewbi/...\n",
      "\u001b[1;31mERROR:\u001b[0m (gcloud.storage.buckets.create) HTTPError 409: Your previous request to create the named bucket succeeded and you already own it.\n",
      "\u001b[33mWARNING: Ignoring invalid distribution -ryptography (/opt/conda/lib/python3.10/site-packages)\u001b[0m\u001b[33m\n",
      "\u001b[0m\u001b[33mWARNING: Ignoring invalid distribution -ryptography (/opt/conda/lib/python3.10/site-packages)\u001b[0m\u001b[33m\n",
      "\u001b[0m\n",
      "\u001b[1m[\u001b[0m\u001b[34;49mnotice\u001b[0m\u001b[1;39;49m]\u001b[0m\u001b[39;49m A new release of pip is available: \u001b[0m\u001b[31;49m24.1.2\u001b[0m\u001b[39;49m -> \u001b[0m\u001b[32;49m24.2\u001b[0m\n",
      "\u001b[1m[\u001b[0m\u001b[34;49mnotice\u001b[0m\u001b[1;39;49m]\u001b[0m\u001b[39;49m To update, run: \u001b[0m\u001b[32;49mpip install --upgrade pip\u001b[0m\n"
     ]
    }
   ],
   "source": [
    "import socket\n",
    "import re\n",
    "\n",
    "UNIQUE_PREFIX = socket.gethostname()\n",
    "UNIQUE_PREFIX = re.sub('[^A-Za-z0-9]+', '', UNIQUE_PREFIX)\n",
    "\n",
    "# Cloud project id.\n",
    "PROJECT_IDS = !(gcloud config get-value core/project)\n",
    "PROJECT_ID = PROJECT_IDS[0]  # @param {type:\"string\"}\n",
    "\n",
    "# The region you want to launch jobs in.\n",
    "PREFIX_NUM_ONLY=int(str(re.search(r'\\d+', UNIQUE_PREFIX).group()))\n",
    "REGION_ALLOCATE=PREFIX_NUM_ONLY%3\n",
    "if REGION_ALLOCATE == 0:\n",
    "    REGION = \"asia-southeast1\"\n",
    "elif REGION_ALLOCATE == 1:\n",
    "    REGION = \"us-central1\"\n",
    "else:\n",
    "    REGION = \"europe-west4\"\n",
    "\n",
    "# The Cloud Storage bucket for storing experiments output. Fill it without the 'gs://' prefix.\n",
    "GCS_BUCKET = f\"{PROJECT_ID}-{UNIQUE_PREFIX}\"  # @param {type:\"string\"} \n",
    "BUCKET_URI = f\"gs://{GCS_BUCKET}\"  # @param {type:\"string\"}\n",
    "\n",
    "# The service account for deploying fine tuned model.\n",
    "SERVICE_ACCOUNT = !(gcloud config get-value core/account)  # @param {type:\"string\"}\n",
    "SERVICE_ACCOUNT = SERVICE_ACCOUNT[0]\n",
    "\n",
    "! gcloud storage buckets create {BUCKET_URI} --project={PROJECT_ID} --location={REGION}\n",
    "! pip install -q gdown"
   ]
  },
  {
   "cell_type": "code",
   "execution_count": 8,
   "id": "cb524cbe-2efa-40f5-9da6-224929029c64",
   "metadata": {
    "tags": []
   },
   "outputs": [],
   "source": [
    "# Initialize the Google API key and import Gemini-pro model.\n",
    "\n",
    "st.title(\"Proposal Calls\") # Title for the page\n",
    "\n",
    "API_KEY = '<<< ADD your OWN key-test'\n",
    "\n",
    "genai.configure(api_key=API_KEY)\n",
    "model = genai.GenerativeModel(\"gemini-1.5-pro-001\")\n",
    "\n",
    "\n",
    "model = genai.GenerativeModel('gemini-pro')"
   ]
  },
  {
   "cell_type": "markdown",
   "id": "8ba354df-9850-44af-88ed-8b9f93705e36",
   "metadata": {},
   "source": [
    "### Create a function read_input() to extract raw data from the site. And then to feed it to the model as a prompt to structure the data.\n"
   ]
  },
  {
   "cell_type": "code",
   "execution_count": 24,
   "id": "f92b8586-6c96-49b9-8641-b09982965cb1",
   "metadata": {
    "tags": []
   },
   "outputs": [],
   "source": [
    "\n",
    "def read_input():\n",
    "  # dictionary of all the links to be webscraped.\n",
    "  # You can add more if you want to\n",
    "    links = {\n",
    "       \"1\":['@vkmauryavk','https://medium.com/'], #[\"DST\",\"https://dst.gov.in/call-for-proposals\"],\n",
    "       \"2\":['@vkmauryavk','https://medium.com/']\n",
    "    }\n",
    "    for i in range(1,3):\n",
    "       url = links[str(i)][1] # Get URL of each organization\n",
    "       r = requests.get(url) # Request for data\n",
    "       soup = BeautifulSoup(r.text, 'html.parser') # Parse the HTML elements\n",
    "       data = soup.text # Get raw data in string format\n",
    "       link = soup.find_all('a', href=True) # Get list of all links on the site in html formet\n",
    "       l = \"\"\n",
    "       for a in link:\n",
    "           l = l +\"\\n\"+ a['href'][1:] # Get the actual links\n",
    "      # Create a query\n",
    "       query = data + \"name of organization is\"+links[str(i)][0]+ \"Jumbled links of calls for proposals:\"+l+\"\\n Create a table with the following columns: Call for proposals or joint call for proposals along with respective link, opening date, closing date and the name of the organization.\"\n",
    "       output = llm_function(query)\n",
    "    print('output',output)\n",
    "    return(output)"
   ]
  },
  {
   "cell_type": "code",
   "execution_count": 25,
   "id": "722b655b-ee8a-4d3b-9fb3-477b976afe5a",
   "metadata": {
    "tags": []
   },
   "outputs": [],
   "source": [
    "# Create another function llm_function() to generate the response.\n",
    "\n",
    "def llm_function(query):\n",
    "    response = model.generate_content(query) # Generate response\n",
    "    st.markdown(response.text) # Print it out using streamlit"
   ]
  },
  {
   "cell_type": "code",
   "execution_count": 26,
   "id": "5f462e9b-9574-4a7e-8e7b-2374b739901f",
   "metadata": {
    "tags": []
   },
   "outputs": [
    {
     "name": "stdout",
     "output_type": "stream",
     "text": [
      "output None\n"
     ]
    }
   ],
   "source": [
    "# Call the main function.\n",
    "\n",
    "# if __name__ == __main__:\n",
    "read_input()"
   ]
  },
  {
   "cell_type": "code",
   "execution_count": null,
   "id": "e2a52a12-2902-4585-acfe-7946794516ec",
   "metadata": {},
   "outputs": [],
   "source": []
  }
 ],
 "metadata": {
  "environment": {
   "kernel": "conda-root-py312",
   "name": "workbench-notebooks.m113",
   "type": "gcloud",
   "uri": "gcr.io/deeplearning-platform-release/workbench-notebooks:m113"
  },
  "kernelspec": {
   "display_name": "py312 (Local)",
   "language": "python",
   "name": "conda-root-py312"
  },
  "language_info": {
   "codemirror_mode": {
    "name": "ipython",
    "version": 3
   },
   "file_extension": ".py",
   "mimetype": "text/x-python",
   "name": "python",
   "nbconvert_exporter": "python",
   "pygments_lexer": "ipython3",
   "version": "3.12.1"
  }
 },
 "nbformat": 4,
 "nbformat_minor": 5
}
