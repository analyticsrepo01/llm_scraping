{
 "cells": [
  {
   "cell_type": "code",
   "execution_count": 1,
   "id": "9d9f5689-b7ad-43b7-ac62-62fd9014a212",
   "metadata": {
    "scrolled": true,
    "tags": []
   },
   "outputs": [
    {
     "name": "stdout",
     "output_type": "stream",
     "text": [
      "Requirement already satisfied: firecrawl-py in /opt/conda/envs/r/lib/python3.12/site-packages (0.0.20)\n",
      "Requirement already satisfied: requests in /opt/conda/envs/r/lib/python3.12/site-packages (from firecrawl-py) (2.31.0)\n",
      "Requirement already satisfied: charset-normalizer<4,>=2 in /opt/conda/envs/r/lib/python3.12/site-packages (from requests->firecrawl-py) (3.3.2)\n",
      "Requirement already satisfied: idna<4,>=2.5 in /opt/conda/envs/r/lib/python3.12/site-packages (from requests->firecrawl-py) (3.6)\n",
      "Requirement already satisfied: urllib3<3,>=1.21.1 in /opt/conda/envs/r/lib/python3.12/site-packages (from requests->firecrawl-py) (2.2.0)\n",
      "Requirement already satisfied: certifi>=2017.4.17 in /opt/conda/envs/r/lib/python3.12/site-packages (from requests->firecrawl-py) (2024.2.2)\n",
      "Note: you may need to restart the kernel to use updated packages.\n"
     ]
    }
   ],
   "source": [
    "%pip install firecrawl-py\n"
   ]
  },
  {
   "cell_type": "code",
   "execution_count": 2,
   "id": "6686d651-3552-4d00-9c47-bcda6aec074b",
   "metadata": {
    "tags": []
   },
   "outputs": [],
   "source": [
    "from firecrawl import FirecrawlApp\n",
    "\n",
    "# Initialize the FirecrawlApp with your API key\n",
    "app = FirecrawlApp(api_key='fc-0f6b183be6004d85ba3ccc111e40ce2e')\n",
    "\n",
    "# Scrape a single URL\n",
    "url = 'https://www.ntu.edu.sg/life-at-ntu/accommodation/hall-facilities/'\n",
    "scraped_data = app.scrape_url(url)\n",
    "\n",
    "# Crawl a website\n",
    "crawl_url = 'https://www.ntu.edu.sg/life-at-ntu/accommodation/hall-facilities'\n",
    "params = {\n",
    "    'pageOptions': {\n",
    "        'onlyMainContent': True\n",
    "    }\n",
    "}\n",
    "crawl_result = app.crawl_url(crawl_url, params=params)\n"
   ]
  },
  {
   "cell_type": "code",
   "execution_count": 3,
   "id": "cd8c0d09-c821-4dd1-903c-04d59bd06ecf",
   "metadata": {
    "tags": []
   },
   "outputs": [],
   "source": [
    "def save_raw_data(raw_data, timestamp, output_folder='output'):\n",
    "    # Ensure the output folder exists\n",
    "    os.makedirs(output_folder, exist_ok=True)\n",
    "    \n",
    "    # Save the raw markdown data with timestamp in filename\n",
    "    raw_output_path = os.path.join(output_folder, f'rawData_{timestamp}.md')\n",
    "    with open(raw_output_path, 'w', encoding='utf-8') as f:\n",
    "        f.write(raw_data)\n",
    "    print(f\"Raw data saved to {raw_output_path}\")"
   ]
  },
  {
   "cell_type": "code",
   "execution_count": 7,
   "id": "21fbe27b-eaa1-4c08-8834-98096617fd69",
   "metadata": {
    "tags": []
   },
   "outputs": [],
   "source": [
    "import datetime\n",
    "import os\n",
    "timestamp = datetime.datetime.now().timestamp()\n"
   ]
  },
  {
   "cell_type": "markdown",
   "id": "a87dfe37-e82e-45ad-8cbe-84d680693003",
   "metadata": {},
   "source": [
    "### Save RAW data"
   ]
  },
  {
   "cell_type": "code",
   "execution_count": 12,
   "id": "c7aaf991-74c5-44eb-9784-ef1e53e5a460",
   "metadata": {
    "tags": []
   },
   "outputs": [
    {
     "name": "stdout",
     "output_type": "stream",
     "text": [
      "Raw data saved to output/rawData_1720764406.459959.md\n"
     ]
    }
   ],
   "source": [
    "# Scrape data\n",
    "\n",
    "# Check if 'markdown' key exists in the scraped data\n",
    "if 'markdown' in scraped_data:\n",
    "    raw_data = scraped_data['markdown']\n",
    "else:\n",
    "    print(\"The key 'markdown' does not exist in the scraped data.\")\n",
    "    raw_data = \"\"\n",
    "    \n",
    "# raw_data = scraped_data #scrape_data(url)\n",
    "\n",
    "# Save raw data\n",
    "save_raw_data(raw_data, timestamp)\n",
    "        "
   ]
  },
  {
   "cell_type": "markdown",
   "id": "a4862afb-3ebd-4e48-8545-b3aff2cd488b",
   "metadata": {},
   "source": [
    "### Text Data "
   ]
  },
  {
   "cell_type": "code",
   "execution_count": 13,
   "id": "9798a7c8-d720-486f-b8a0-b8a0507ddaaa",
   "metadata": {
    "tags": []
   },
   "outputs": [
    {
     "data": {
      "text/plain": [
       "[{'content': '**Privacy Notice**\\n\\nThis site uses cookies to offer you a better browsing experience. By continuing, you are agreeing to the use of cookies on your device as described in our [privacy policy](/footer/ntu-privacy-statement)\\n.\\n\\nClose\\n\\nClose\\n\\nBeware of fake email, SMS and WhatsApp messages: check before clicking. [Read more](/life-at-ntu/internet-account-and-policy/it-security)\\n\\n[![Laundry Room](https://www.ntu.edu.sg/ResourcePackages/NTU/assets/images/white-dot.jpg)\\\\\\n\\\\\\n### Laundry Room\\\\\\n\\\\\\nResidents are granted access to the laundry room found in every hall. Washing machines and dryer are available for use at $1 for an hour of wash, and residents have to bring along their own detergent.](/life-at-ntu/accommodation/hall-facilities)\\n\\n[![Hall Pantry](https://www.ntu.edu.sg/ResourcePackages/NTU/assets/images/white-dot.jpg)\\\\\\n\\\\\\n### Hall Pantry\\\\\\n\\\\\\nThe pantry is a common space for residents to gather to prepare and have their meal. Fully equipped with a microwave oven, induction cooker and hot and cold water dispenser.](/life-at-ntu/accommodation/hall-facilities)\\n\\n[![hall-4-study-room](https://www.ntu.edu.sg/ResourcePackages/NTU/assets/images/white-dot.jpg)\\\\\\n\\\\\\n### Study Room\\\\\\n\\\\\\nFound in every hall, the study room is a common area for residents to gather together to do their revisions. Study rooms have a fixed opening hours, with extension during the exam periods.](/life-at-ntu/accommodation/hall-facilities)\\n\\n[![Lounge](https://www.ntu.edu.sg/ResourcePackages/NTU/assets/images/white-dot.jpg)\\\\\\n\\\\\\n### Common Room\\\\\\n\\\\\\nEvery hall also has an array of common rooms including Jam Band Room, Recreation Games Room, common lounge, etc.](/life-at-ntu/accommodation/hall-facilities)',\n",
       "  'markdown': '**Privacy Notice**\\n\\nThis site uses cookies to offer you a better browsing experience. By continuing, you are agreeing to the use of cookies on your device as described in our [privacy policy](/footer/ntu-privacy-statement)\\n.\\n\\nClose\\n\\nClose\\n\\nBeware of fake email, SMS and WhatsApp messages: check before clicking. [Read more](/life-at-ntu/internet-account-and-policy/it-security)\\n\\n[![Laundry Room](https://www.ntu.edu.sg/ResourcePackages/NTU/assets/images/white-dot.jpg)\\\\\\n\\\\\\n### Laundry Room\\\\\\n\\\\\\nResidents are granted access to the laundry room found in every hall. Washing machines and dryer are available for use at $1 for an hour of wash, and residents have to bring along their own detergent.](/life-at-ntu/accommodation/hall-facilities)\\n\\n[![Hall Pantry](https://www.ntu.edu.sg/ResourcePackages/NTU/assets/images/white-dot.jpg)\\\\\\n\\\\\\n### Hall Pantry\\\\\\n\\\\\\nThe pantry is a common space for residents to gather to prepare and have their meal. Fully equipped with a microwave oven, induction cooker and hot and cold water dispenser.](/life-at-ntu/accommodation/hall-facilities)\\n\\n[![hall-4-study-room](https://www.ntu.edu.sg/ResourcePackages/NTU/assets/images/white-dot.jpg)\\\\\\n\\\\\\n### Study Room\\\\\\n\\\\\\nFound in every hall, the study room is a common area for residents to gather together to do their revisions. Study rooms have a fixed opening hours, with extension during the exam periods.](/life-at-ntu/accommodation/hall-facilities)\\n\\n[![Lounge](https://www.ntu.edu.sg/ResourcePackages/NTU/assets/images/white-dot.jpg)\\\\\\n\\\\\\n### Common Room\\\\\\n\\\\\\nEvery hall also has an array of common rooms including Jam Band Room, Recreation Games Room, common lounge, etc.](/life-at-ntu/accommodation/hall-facilities)',\n",
       "  'metadata': {'ogUrl': 'https://www.ntu.edu.sg/life-at-ntu/accommodation/hall-facilities',\n",
       "   'title': '\\n\\tUndergraduate Housing Facilities | NTU Singapore\\n',\n",
       "   'robots': 'follow',\n",
       "   'ogImage': 'https://www.ntu.edu.sg/images/default-source/default-album/ntu-thehive-775x465.jpg',\n",
       "   'ogTitle': 'Undergraduate Housing Facilities',\n",
       "   'sourceURL': 'https://www.ntu.edu.sg/life-at-ntu/accommodation/hall-facilities',\n",
       "   'ogSiteName': 'Corporate NTU',\n",
       "   'pageStatusCode': 200,\n",
       "   'ogLocaleAlternate': []}}]"
      ]
     },
     "execution_count": 13,
     "metadata": {},
     "output_type": "execute_result"
    }
   ],
   "source": [
    "crawl_result[0]['content']"
   ]
  },
  {
   "cell_type": "markdown",
   "id": "e3b2ba80-93a9-4dfc-9dbb-1d232288487c",
   "metadata": {},
   "source": [
    "### Use end to end scraping"
   ]
  },
  {
   "cell_type": "code",
   "execution_count": 15,
   "id": "a1e288c2-b89c-4f1f-9dc5-6727811582d5",
   "metadata": {
    "tags": []
   },
   "outputs": [],
   "source": [
    "# https://medium.com/@mohammed97ashraf/from-manual-to-automated-the-future-of-web-scraping-with-llm-97b04ce93476"
   ]
  },
  {
   "cell_type": "code",
   "execution_count": null,
   "id": "8a482333-c38e-40c8-82b3-8628877203ec",
   "metadata": {},
   "outputs": [],
   "source": []
  }
 ],
 "metadata": {
  "environment": {
   "kernel": "conda-root-py312",
   "name": "workbench-notebooks.m113",
   "type": "gcloud",
   "uri": "gcr.io/deeplearning-platform-release/workbench-notebooks:m113"
  },
  "kernelspec": {
   "display_name": "py312 (Local)",
   "language": "python",
   "name": "conda-root-py312"
  },
  "language_info": {
   "codemirror_mode": {
    "name": "ipython",
    "version": 3
   },
   "file_extension": ".py",
   "mimetype": "text/x-python",
   "name": "python",
   "nbconvert_exporter": "python",
   "pygments_lexer": "ipython3",
   "version": "3.12.1"
  }
 },
 "nbformat": 4,
 "nbformat_minor": 5
}
